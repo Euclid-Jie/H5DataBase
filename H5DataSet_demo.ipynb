{
 "cells": [
  {
   "cell_type": "code",
   "execution_count": 1,
   "metadata": {
    "ExecuteTime": {
     "start_time": "2023-07-10T22:24:43.047171Z",
     "end_time": "2023-07-10T22:24:43.313269Z"
    }
   },
   "outputs": [],
   "source": [
    "from H5DataBase import H5DataBase\n",
    "import pandas as pd\n",
    "import numpy as np"
   ]
  },
  {
   "cell_type": "code",
   "execution_count": 2,
   "metadata": {
    "ExecuteTime": {
     "start_time": "2023-07-10T22:24:43.317081Z",
     "end_time": "2023-07-10T22:24:43.327288Z"
    }
   },
   "outputs": [
    {
     "data": {
      "text/plain": "                   1         2         3         4         5\n2021-01-01  0.850350  0.913833  0.528129  0.340639  0.026278\n2021-01-02  0.136319  0.278605  0.965719  0.512975  0.836263\n2021-01-03  0.025672  0.188206  0.838730  0.283538  0.443650\n2021-01-04  0.232190  0.648655  0.980556  0.912469  0.640212\n2021-01-05  0.147693  0.918844  0.265016  0.746422  0.266314\n2021-01-06  0.074376  0.862960  0.036836  0.078228  0.045283\n2021-01-07  0.644686  0.445572  0.537141  0.374815  0.745336\n2021-01-08  0.005708  0.354721  0.665218  0.519844  0.722618\n2021-01-09  0.369551  0.991206  0.221039  0.672987  0.271365\n2021-01-10  0.028013  0.490584  0.889813  0.502162  0.250971",
      "text/html": "<div>\n<style scoped>\n    .dataframe tbody tr th:only-of-type {\n        vertical-align: middle;\n    }\n\n    .dataframe tbody tr th {\n        vertical-align: top;\n    }\n\n    .dataframe thead th {\n        text-align: right;\n    }\n</style>\n<table border=\"1\" class=\"dataframe\">\n  <thead>\n    <tr style=\"text-align: right;\">\n      <th></th>\n      <th>1</th>\n      <th>2</th>\n      <th>3</th>\n      <th>4</th>\n      <th>5</th>\n    </tr>\n  </thead>\n  <tbody>\n    <tr>\n      <th>2021-01-01</th>\n      <td>0.850350</td>\n      <td>0.913833</td>\n      <td>0.528129</td>\n      <td>0.340639</td>\n      <td>0.026278</td>\n    </tr>\n    <tr>\n      <th>2021-01-02</th>\n      <td>0.136319</td>\n      <td>0.278605</td>\n      <td>0.965719</td>\n      <td>0.512975</td>\n      <td>0.836263</td>\n    </tr>\n    <tr>\n      <th>2021-01-03</th>\n      <td>0.025672</td>\n      <td>0.188206</td>\n      <td>0.838730</td>\n      <td>0.283538</td>\n      <td>0.443650</td>\n    </tr>\n    <tr>\n      <th>2021-01-04</th>\n      <td>0.232190</td>\n      <td>0.648655</td>\n      <td>0.980556</td>\n      <td>0.912469</td>\n      <td>0.640212</td>\n    </tr>\n    <tr>\n      <th>2021-01-05</th>\n      <td>0.147693</td>\n      <td>0.918844</td>\n      <td>0.265016</td>\n      <td>0.746422</td>\n      <td>0.266314</td>\n    </tr>\n    <tr>\n      <th>2021-01-06</th>\n      <td>0.074376</td>\n      <td>0.862960</td>\n      <td>0.036836</td>\n      <td>0.078228</td>\n      <td>0.045283</td>\n    </tr>\n    <tr>\n      <th>2021-01-07</th>\n      <td>0.644686</td>\n      <td>0.445572</td>\n      <td>0.537141</td>\n      <td>0.374815</td>\n      <td>0.745336</td>\n    </tr>\n    <tr>\n      <th>2021-01-08</th>\n      <td>0.005708</td>\n      <td>0.354721</td>\n      <td>0.665218</td>\n      <td>0.519844</td>\n      <td>0.722618</td>\n    </tr>\n    <tr>\n      <th>2021-01-09</th>\n      <td>0.369551</td>\n      <td>0.991206</td>\n      <td>0.221039</td>\n      <td>0.672987</td>\n      <td>0.271365</td>\n    </tr>\n    <tr>\n      <th>2021-01-10</th>\n      <td>0.028013</td>\n      <td>0.490584</td>\n      <td>0.889813</td>\n      <td>0.502162</td>\n      <td>0.250971</td>\n    </tr>\n  </tbody>\n</table>\n</div>"
     },
     "execution_count": 2,
     "metadata": {},
     "output_type": "execute_result"
    }
   ],
   "source": [
    "data_df = pd.DataFrame(data=np.random.rand(10,5), index=pd.date_range('2021-01-01','2021-01-10',freq='D'),columns=np.arange(1,6))\n",
    "data_df"
   ]
  },
  {
   "cell_type": "code",
   "execution_count": 3,
   "metadata": {
    "ExecuteTime": {
     "start_time": "2023-07-10T22:24:43.329288Z",
     "end_time": "2023-07-10T22:24:43.348520Z"
    }
   },
   "outputs": [],
   "source": [
    "H5DataBase.write_pivotDF_to_h5data(h5FilePath='demo.h5',pivotDF=data_df,pivotKey='random_values',rewrite=True)"
   ]
  },
  {
   "cell_type": "code",
   "execution_count": 5,
   "metadata": {
    "ExecuteTime": {
     "start_time": "2023-07-10T22:28:50.909224Z",
     "end_time": "2023-07-10T22:28:50.923603Z"
    }
   },
   "outputs": [
    {
     "name": "stdout",
     "output_type": "stream",
     "text": [
      "<dir>  ~\n",
      "<dir>  ~/meatData\n",
      "  <file> <5.00 B>  ~/meatData/columns.int32\n",
      "  <file> <10.00 B>  ~/meatData/index.uint64\n",
      "<dir>  ~/pivotData\n",
      "  <file> <50.00 B>  ~/pivotData/random_values.float64\n"
     ]
    }
   ],
   "source": [
    "H5DataBase(h5FilePath='demo.h5').h5dir()"
   ]
  },
  {
   "cell_type": "code",
   "execution_count": 6,
   "outputs": [
    {
     "data": {
      "text/plain": "['columns', 'index', 'random_values']"
     },
     "execution_count": 6,
     "metadata": {},
     "output_type": "execute_result"
    }
   ],
   "source": [
    "H5DataBase(h5FilePath='demo.h5').known_data"
   ],
   "metadata": {
    "collapsed": false,
    "ExecuteTime": {
     "start_time": "2023-07-10T22:29:22.335053Z",
     "end_time": "2023-07-10T22:29:22.372323Z"
    }
   }
  },
  {
   "cell_type": "code",
   "execution_count": 7,
   "metadata": {
    "ExecuteTime": {
     "start_time": "2023-07-10T22:30:39.700930Z",
     "end_time": "2023-07-10T22:30:39.727505Z"
    }
   },
   "outputs": [
    {
     "data": {
      "text/plain": "array(['2021-01-01T00:00:00.000000000', '2021-01-02T00:00:00.000000000',\n       '2021-01-03T00:00:00.000000000', '2021-01-04T00:00:00.000000000',\n       '2021-01-05T00:00:00.000000000', '2021-01-06T00:00:00.000000000',\n       '2021-01-07T00:00:00.000000000', '2021-01-08T00:00:00.000000000',\n       '2021-01-09T00:00:00.000000000', '2021-01-10T00:00:00.000000000'],\n      dtype='datetime64[ns]')"
     },
     "execution_count": 7,
     "metadata": {},
     "output_type": "execute_result"
    }
   ],
   "source": [
    "H5DataBase(h5FilePath='demo.h5').load_h5data('index')"
   ]
  },
  {
   "cell_type": "code",
   "execution_count": 14,
   "metadata": {},
   "outputs": [
    {
     "data": {
      "text/plain": [
       "array([1, 2, 3, 4, 5])"
      ]
     },
     "execution_count": 14,
     "metadata": {},
     "output_type": "execute_result"
    }
   ],
   "source": [
    "H5DataBase(h5FilePath='demo.h5').load_h5data('columns')"
   ]
  },
  {
   "cell_type": "code",
   "execution_count": 25,
   "metadata": {},
   "outputs": [
    {
     "name": "stdout",
     "output_type": "stream",
     "text": [
      "CPU times: total: 0 ns\n",
      "Wall time: 1.99 ms\n"
     ]
    },
    {
     "data": {
      "text/html": [
       "<div>\n",
       "<style scoped>\n",
       "    .dataframe tbody tr th:only-of-type {\n",
       "        vertical-align: middle;\n",
       "    }\n",
       "\n",
       "    .dataframe tbody tr th {\n",
       "        vertical-align: top;\n",
       "    }\n",
       "\n",
       "    .dataframe thead th {\n",
       "        text-align: right;\n",
       "    }\n",
       "</style>\n",
       "<table border=\"1\" class=\"dataframe\">\n",
       "  <thead>\n",
       "    <tr style=\"text-align: right;\">\n",
       "      <th></th>\n",
       "      <th>1</th>\n",
       "      <th>2</th>\n",
       "      <th>3</th>\n",
       "      <th>4</th>\n",
       "      <th>5</th>\n",
       "    </tr>\n",
       "  </thead>\n",
       "  <tbody>\n",
       "    <tr>\n",
       "      <th>2021-01-01</th>\n",
       "      <td>0.897071</td>\n",
       "      <td>0.925008</td>\n",
       "      <td>0.257320</td>\n",
       "      <td>0.829289</td>\n",
       "      <td>0.634572</td>\n",
       "    </tr>\n",
       "    <tr>\n",
       "      <th>2021-01-02</th>\n",
       "      <td>0.581104</td>\n",
       "      <td>0.072635</td>\n",
       "      <td>0.737233</td>\n",
       "      <td>0.125978</td>\n",
       "      <td>0.552459</td>\n",
       "    </tr>\n",
       "    <tr>\n",
       "      <th>2021-01-03</th>\n",
       "      <td>0.123421</td>\n",
       "      <td>0.716702</td>\n",
       "      <td>0.447588</td>\n",
       "      <td>0.429219</td>\n",
       "      <td>0.183190</td>\n",
       "    </tr>\n",
       "    <tr>\n",
       "      <th>2021-01-04</th>\n",
       "      <td>0.271575</td>\n",
       "      <td>0.615348</td>\n",
       "      <td>0.610521</td>\n",
       "      <td>0.320037</td>\n",
       "      <td>0.047979</td>\n",
       "    </tr>\n",
       "    <tr>\n",
       "      <th>2021-01-05</th>\n",
       "      <td>0.810658</td>\n",
       "      <td>0.666168</td>\n",
       "      <td>0.698890</td>\n",
       "      <td>0.268542</td>\n",
       "      <td>0.746118</td>\n",
       "    </tr>\n",
       "    <tr>\n",
       "      <th>2021-01-06</th>\n",
       "      <td>0.224889</td>\n",
       "      <td>0.365152</td>\n",
       "      <td>0.565499</td>\n",
       "      <td>0.746300</td>\n",
       "      <td>0.434252</td>\n",
       "    </tr>\n",
       "    <tr>\n",
       "      <th>2021-01-07</th>\n",
       "      <td>0.484700</td>\n",
       "      <td>0.930112</td>\n",
       "      <td>0.924013</td>\n",
       "      <td>0.366535</td>\n",
       "      <td>0.784586</td>\n",
       "    </tr>\n",
       "    <tr>\n",
       "      <th>2021-01-08</th>\n",
       "      <td>0.981812</td>\n",
       "      <td>0.442943</td>\n",
       "      <td>0.517714</td>\n",
       "      <td>0.955200</td>\n",
       "      <td>0.564205</td>\n",
       "    </tr>\n",
       "    <tr>\n",
       "      <th>2021-01-09</th>\n",
       "      <td>0.733093</td>\n",
       "      <td>0.415820</td>\n",
       "      <td>0.240032</td>\n",
       "      <td>0.745761</td>\n",
       "      <td>0.496487</td>\n",
       "    </tr>\n",
       "    <tr>\n",
       "      <th>2021-01-10</th>\n",
       "      <td>0.405284</td>\n",
       "      <td>0.816901</td>\n",
       "      <td>0.489468</td>\n",
       "      <td>0.707825</td>\n",
       "      <td>0.801991</td>\n",
       "    </tr>\n",
       "  </tbody>\n",
       "</table>\n",
       "</div>"
      ],
      "text/plain": [
       "                   1         2         3         4         5\n",
       "2021-01-01  0.897071  0.925008  0.257320  0.829289  0.634572\n",
       "2021-01-02  0.581104  0.072635  0.737233  0.125978  0.552459\n",
       "2021-01-03  0.123421  0.716702  0.447588  0.429219  0.183190\n",
       "2021-01-04  0.271575  0.615348  0.610521  0.320037  0.047979\n",
       "2021-01-05  0.810658  0.666168  0.698890  0.268542  0.746118\n",
       "2021-01-06  0.224889  0.365152  0.565499  0.746300  0.434252\n",
       "2021-01-07  0.484700  0.930112  0.924013  0.366535  0.784586\n",
       "2021-01-08  0.981812  0.442943  0.517714  0.955200  0.564205\n",
       "2021-01-09  0.733093  0.415820  0.240032  0.745761  0.496487\n",
       "2021-01-10  0.405284  0.816901  0.489468  0.707825  0.801991"
      ]
     },
     "execution_count": 25,
     "metadata": {},
     "output_type": "execute_result"
    }
   ],
   "source": [
    "H5DataBase(h5FilePath='demo.h5').load_pivotDF_from_h5data('random_values')"
   ]
  },
  {
   "cell_type": "code",
   "execution_count": 27,
   "metadata": {},
   "outputs": [],
   "source": [
    "H5DataBase.add_pivotDF_to_h5data(h5FilePath='demo.h5',pivotDF=data_df,pivotKey='random_values_copy')"
   ]
  },
  {
   "cell_type": "code",
   "execution_count": 28,
   "metadata": {},
   "outputs": [
    {
     "name": "stdout",
     "output_type": "stream",
     "text": [
      "<dir>  ~\n",
      "<dir>  ~/meatData\n",
      "  <file> <5.00 B>  ~/meatData/columns.int32\n",
      "  <file> <10.00 B>  ~/meatData/index.uint64\n",
      "  view_dtype = <M8[ns]\n",
      "<dir>  ~/pivotData\n",
      "  <file> <50.00 B>  ~/pivotData/random_values.float64\n",
      "  <file> <50.00 B>  ~/pivotData/random_values_copy.float64\n"
     ]
    }
   ],
   "source": [
    "H5DataBase('demo').h5dir()"
   ]
  }
 ],
 "metadata": {
  "kernelspec": {
   "display_name": "YYTZ",
   "language": "python",
   "name": "python3"
  },
  "language_info": {
   "codemirror_mode": {
    "name": "ipython",
    "version": 3
   },
   "file_extension": ".py",
   "mimetype": "text/x-python",
   "name": "python",
   "nbconvert_exporter": "python",
   "pygments_lexer": "ipython3",
   "version": "3.10.12"
  },
  "orig_nbformat": 4
 },
 "nbformat": 4,
 "nbformat_minor": 2
}
